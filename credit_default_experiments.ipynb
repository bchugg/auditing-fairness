{
 "cells": [
  {
   "cell_type": "code",
   "execution_count": null,
   "id": "06b924cd",
   "metadata": {},
   "outputs": [],
   "source": [
    "import numpy as np \n",
    "import pandas as pd \n",
    "import matplotlib.pyplot as plt\n",
    "import pickle\n",
    "import os \n",
    "from glob import glob\n",
    "import matplotlib as mpl \n",
    "from sklearn.ensemble import RandomForestClassifier\n",
    "from sklearn.linear_model import LogisticRegression\n",
    "from scipy.stats import permutation_test\n",
    "from sklearn.model_selection import train_test_split\n",
    "from sklearn.pipeline import make_pipeline\n",
    "from sklearn.preprocessing import StandardScaler\n",
    "from methods import * \n",
    "\n",
    "%load_ext autoreload\n",
    "%autoreload 2"
   ]
  },
  {
   "cell_type": "markdown",
   "id": "b85b7859",
   "metadata": {},
   "source": [
    "## Load data, train model"
   ]
  },
  {
   "cell_type": "code",
   "execution_count": null,
   "id": "8d575af2",
   "metadata": {},
   "outputs": [],
   "source": [
    "data_url = \"http://archive.ics.uci.edu/ml/machine-learning-databases/00350/default%20of%20credit%20card%20clients.xls\"\n",
    "dataset = (\n",
    "    pd.read_excel(io=data_url, header=1)\n",
    "    .drop(columns=[\"ID\"])\n",
    "    .rename(\n",
    "        columns={\"PAY_0\": \"PAY_1\", \"default payment next month\": \"default\"}\n",
    "    )\n",
    ")\n",
    "\n",
    "np.random.seed(42)\n",
    "train_inds = np.random.choice(dataset.shape[0], 10000, replace=False)\n",
    "df_train = dataset.iloc[train_inds]\n",
    "\n",
    "X_train = df_train.drop(columns='default')\n",
    "y_train = df_train['default']"
   ]
  },
  {
   "cell_type": "code",
   "execution_count": null,
   "id": "895f6a78",
   "metadata": {},
   "outputs": [],
   "source": [
    "clf = RandomForestClassifier(random_state=42)\n",
    "clf.fit(X_train, y_train)\n",
    "df_test = dataset[~dataset.index.isin(train_inds)]\n",
    "df1 = df_test[(df_test.EDUCATION <= 1) & (df_test.default == 0)]\n",
    "df2 = df_test[(df_test.EDUCATION >= 3) & (df_test.default == 0)]\n",
    "X1 = df1.drop(columns='default')\n",
    "X2 = df2.drop(columns='default')\n",
    "X1.shape, X2.shape"
   ]
  },
  {
   "cell_type": "code",
   "execution_count": null,
   "id": "e08d4a10",
   "metadata": {},
   "outputs": [],
   "source": [
    "# Check that equality of opportunity is not met \n",
    "y1 = clf.predict(X1)\n",
    "y2 = clf.predict(X2)\n",
    "np.mean(y1), np.mean(y2)\n",
    "\n"
   ]
  },
  {
   "cell_type": "code",
   "execution_count": null,
   "id": "26fc71c6",
   "metadata": {},
   "outputs": [],
   "source": [
    "# Simulate fair model by changing means \n",
    "z1 = y1 + np.mean(y2) - np.mean(y1)\n",
    "z2 = y2\n",
    "print(np.mean(z1), np.mean(z2))"
   ]
  },
  {
   "cell_type": "markdown",
   "id": "afccc437",
   "metadata": {},
   "source": [
    "## Experiments"
   ]
  },
  {
   "cell_type": "code",
   "execution_count": null,
   "id": "08c12ea2",
   "metadata": {},
   "outputs": [],
   "source": [
    "# Run null and alternative, no Bonferroni correction \n",
    "# (Permutation tests may take awhile)\n",
    "\n",
    "\n",
    "alphas = np.linspace(0.005, 0.1, 20)\n",
    "iters = 10 \n",
    "\n",
    "\n",
    "betting_tau, _ = betting_experiment(y1, y2, alphas, iters) # Alternative \n",
    "_, betting_fdr = betting_experiment(z1, z2, alphas, iters) # Null \n",
    "\n",
    "perm_250_tau, _ = seq_perm_test_experiment(y1, y2, alphas, iters, k=250, bonferroni=False)\n",
    "_, perm_250_fdr = seq_perm_test_experiment(z1, z2, alphas, iters, k=250, bonferroni=False)\n",
    "\n",
    "perm_500_tau, _ = seq_perm_test_experiment(y1, y2, alphas, iters, k=500, bonferroni=False)\n",
    "_, perm_500_fdr = seq_perm_test_experiment(z1, z2, alphas, iters, k=500, bonferroni=False)\n",
    "\n",
    "perm_1000_tau, _ = seq_perm_test_experiment(y1, y2, alphas, iters, k=1000, bonferroni=False)\n",
    "_, perm_1000_fdr = seq_perm_test_experiment(z1, z2, alphas, iters, k=1000, bonferroni=False)\n",
    "\n",
    "\n",
    "save_results('betting_loan_tau', betting_tau)\n",
    "save_results('betting_loan_fdr', betting_fdr)\n",
    "save_results('perm_250_loan_tau', perm_250_tau)\n",
    "save_results('perm_250_loan_fdr', perm_250_fdr)\n",
    "save_results('perm_500_loan_tau', perm_500_tau)\n",
    "save_results('perm_500_loan_fdr', perm_500_fdr)\n",
    "save_results('perm_1000_loan_tau', perm_1000_tau)\n",
    "save_results('perm_1000_loan_fdr', perm_1000_fdr)\n",
    "\n"
   ]
  },
  {
   "cell_type": "code",
   "execution_count": null,
   "id": "7336f2fb",
   "metadata": {},
   "outputs": [],
   "source": [
    "## Run null and alternative, using Bonferroni correction \n",
    "\n",
    "alphas = np.linspace(0.005, 0.1, 20)\n",
    "iters = 10 \n",
    "\n",
    "betting_tau, _ = betting_experiment(y1, y2, alphas, iters) # Alternative \n",
    "_, betting_fdr = betting_experiment(z1, z2, alphas, iters) # Null \n",
    "\n",
    "permb_250_tau, _ = seq_perm_test_experiment(y1, y2, alphas, iters, k=250, bonferroni=True)\n",
    "_, permb_250_fdr = seq_perm_test_experiment(z1, z2, alphas, iters, k=250, bonferroni=True)\n",
    "\n",
    "permb_500_tau, _ = seq_perm_test_experiment(y1, y2, alphas, iters, k=500, bonferroni=True)\n",
    "_, permb_500_fdr = seq_perm_test_experiment(z1, z2, alphas, iters, k=500, bonferroni=True)\n",
    "\n",
    "permb_1000_tau, _ = seq_perm_test_experiment(y1, y2, alphas, iters, k=1000, bonferroni=True)\n",
    "_, permb_1000_fdr = seq_perm_test_experiment(z1, z2, alphas, iters, k=1000, bonferroni=True)\n",
    "\n",
    "\n",
    "save_results('betting_loan_tau', betting_tau)\n",
    "save_results('betting_loan_fdr', betting_fdr)\n",
    "save_results('permb_250_loan_tau', permb_250_tau)\n",
    "save_results('permb_250_loan_fdr', permb_250_fdr)\n",
    "save_results('permb_500_loan_tau', permb_500_tau)\n",
    "save_results('permb_500_loan_fdr', permb_500_fdr)\n",
    "save_results('permb_1000_loan_tau', permb_1000_tau)\n",
    "save_results('permb_1000_loan_fdr', permb_1000_fdr)"
   ]
  }
 ],
 "metadata": {
  "kernelspec": {
   "display_name": "Python 3 (ipykernel)",
   "language": "python",
   "name": "python3"
  },
  "language_info": {
   "codemirror_mode": {
    "name": "ipython",
    "version": 3
   },
   "file_extension": ".py",
   "mimetype": "text/x-python",
   "name": "python",
   "nbconvert_exporter": "python",
   "pygments_lexer": "ipython3",
   "version": "3.9.12"
  }
 },
 "nbformat": 4,
 "nbformat_minor": 5
}
